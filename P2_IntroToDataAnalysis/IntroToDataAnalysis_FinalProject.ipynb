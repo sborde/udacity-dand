{
 "cells": [
  {
   "cell_type": "markdown",
   "metadata": {},
   "source": [
    "# Project: Investigate possible connection between economic development and addiction to smoking and alcohol\n",
    "## Table of contents\n",
    " - <a href=\"#intro\">Introduction</a>\n",
    " - <a href=\"#wrangle\">Data wrangling and cleaning</a>\n",
    " - <a href=\"#explore\">Exploratory analysis</a>\n",
    " - <a href=\"#discussion\">Discussion</a>"
   ]
  },
  {
   "cell_type": "markdown",
   "metadata": {},
   "source": [
    "<a id=\"intro\"></a>\n",
    "## Introduction\n"
   ]
  },
  {
   "cell_type": "markdown",
   "metadata": {},
   "source": [
    "For my analysis project, I choose the \"Gapminder World\" dataset. After examining the available variables, I choose *\"Alcohol consumption per adult\"* indicator as the dependent variable and the following three as the independent variable: \n",
    "\n",
    " - *\"Prevalence of current tobacco use among adults (>=15 years) (%, both sexes)\"*\n",
    " - *\"Income per person (fixed 2000 US$)\"*\n",
    " - *\"Total 15+ unemployed (%)\"*\n",
    " \n",
    "Because data for the year 2005 was almost complete for each indicator, I used only that year. Based on these variables, I would state this three questions: \n",
    "\n",
    " 1. \"How does the economy of a country relate to alcohol consumption?\"\n",
    " 2. \"Is there any connection between addiction to alcohol and tobacco?\"\n",
    " 3. \"Where is Hungary - my home country - on these lists and what can we say about it compared to other countries?\""
   ]
  },
  {
   "cell_type": "code",
   "execution_count": 2,
   "metadata": {
    "collapsed": true
   },
   "outputs": [],
   "source": [
    "import numpy as np\n",
    "import pandas as pd\n",
    "import matplotlib.pyplot as plt\n",
    "\n",
    "%matplotlib inline\n",
    "\n",
    "# Define basic variables\n",
    "DATA_DIR = 'ds'"
   ]
  },
  {
   "cell_type": "markdown",
   "metadata": {},
   "source": [
    "<a id=\"wrangle\"></a>\n",
    "## Data wrangling and cleaning"
   ]
  },
  {
   "cell_type": "markdown",
   "metadata": {},
   "source": [
    "First, I loaded the dataset given as CSV into dataframes. After that, I joined values by the name of the country."
   ]
  },
  {
   "cell_type": "code",
   "execution_count": 4,
   "metadata": {
    "collapsed": true
   },
   "outputs": [],
   "source": [
    "list_of_files = ['smoking', 'income', 'alcohol', 'unemployment']"
   ]
  },
  {
   "cell_type": "code",
   "execution_count": 15,
   "metadata": {},
   "outputs": [],
   "source": [
    "df_list = []\n",
    "for fname in list_of_files :\n",
    "    file_full_path = DATA_DIR + '/' + fname + '.csv'\n",
    "    df = pd.read_csv(file_full_path, index_col=0, header=0, sep=',')\n",
    "    df_list.append(df)"
   ]
  },
  {
   "cell_type": "code",
   "execution_count": 23,
   "metadata": {},
   "outputs": [],
   "source": [
    "df = pd.concat(df_list, axis=1)"
   ]
  },
  {
   "cell_type": "code",
   "execution_count": 38,
   "metadata": {},
   "outputs": [
    {
     "data": {
      "text/plain": [
       "<matplotlib.axes._subplots.AxesSubplot at 0x7fead5364358>"
      ]
     },
     "execution_count": 38,
     "metadata": {},
     "output_type": "execute_result"
    },
    {
     "data": {
      "image/png": "[encoded data removed]",
      "text/plain": [
       "<matplotlib.figure.Figure at 0x7fead52d8588>"
      ]
     },
     "metadata": {},
     "output_type": "display_data"
    }
   ],
   "source": [
    "#df.loc[:, 'alcohol'].hist(range=(0,20), bins=40, grid=False)\n",
    "df.boxplot('alcohol', grid=False)"
   ]
  },
  {
   "cell_type": "code",
   "execution_count": 48,
   "metadata": {},
   "outputs": [],
   "source": [
    "quantiles = df.loc[:, 'alcohol'].quantile([0, 0.25, 0.5, 0.75, 1])"
   ]
  },
  {
   "cell_type": "code",
   "execution_count": 49,
   "metadata": {},
   "outputs": [
    {
     "name": "stdout",
     "output_type": "stream",
     "text": [
      "0.00     0.0200\n",
      "0.25     2.5825\n",
      "0.50     5.9900\n",
      "0.75     9.7775\n",
      "1.00    18.2800\n",
      "Name: alcohol, dtype: float64\n"
     ]
    }
   ],
   "source": [
    "print(quantiles)"
   ]
  },
  {
   "cell_type": "code",
   "execution_count": 57,
   "metadata": {},
   "outputs": [
    {
     "data": {
      "text/plain": [
       "Abkhazia                    False\n",
       "Afghanistan                  True\n",
       "Akrotiri and Dhekelia       False\n",
       "Albania                     False\n",
       "Algeria                      True\n",
       "American Samoa              False\n",
       "Andorra                     False\n",
       "Angola                      False\n",
       "Anguilla                    False\n",
       "Antarctica                  False\n",
       "Antigua and Barbuda         False\n",
       "Argentina                   False\n",
       "Armenia                     False\n",
       "Aruba                       False\n",
       "Australia                   False\n",
       "Austria                     False\n",
       "Azerbaijan                  False\n",
       "Bahamas                     False\n",
       "Bahrain                     False\n",
       "Bangladesh                   True\n",
       "Barbados                    False\n",
       "Belarus                     False\n",
       "Belgium                     False\n",
       "Belize                      False\n",
       "Benin                        True\n",
       "Bermuda                     False\n",
       "Bhutan                       True\n",
       "Bolivia                     False\n",
       "Bonaire                     False\n",
       "Bosnia and Herzegovina      False\n",
       "                            ...  \n",
       "Turkey                      False\n",
       "Turkmenistan                False\n",
       "Turks and Caicos Islands    False\n",
       "Tuvalu                       True\n",
       "U.S. Pacific Islands        False\n",
       "USSR                        False\n",
       "Uganda                      False\n",
       "Ukraine                     False\n",
       "United Arab Emirates         True\n",
       "United Kingdom              False\n",
       "United Korea (former)\\n     False\n",
       "United States               False\n",
       "Uruguay                     False\n",
       "Uzbekistan                  False\n",
       "Vanuatu                      True\n",
       "Venezuela                   False\n",
       "Vietnam                     False\n",
       "Virgin Islands (U.S.)       False\n",
       "Virgin Islands, British     False\n",
       "Wake Island                 False\n",
       "Wallis et Futuna            False\n",
       "West Bank and Gaza          False\n",
       "West Germany                False\n",
       "Western Sahara              False\n",
       "Yemen                        True\n",
       "Yemen, Rep.                 False\n",
       "Yugoslavia                  False\n",
       "Zambia                      False\n",
       "Zimbabwe                    False\n",
       "Åland                       False\n",
       "Name: alcohol, Length: 295, dtype: bool"
      ]
     },
     "execution_count": 57,
     "metadata": {},
     "output_type": "execute_result"
    }
   ],
   "source": [
    "(df.loc[:, 'alcohol'] >= 0.02) & (df.loc[:, 'alcohol'] <= 2.5)"
   ]
  },
  {
   "cell_type": "code",
   "execution_count": 51,
   "metadata": {},
   "outputs": [
    {
     "ename": "ValueError",
     "evalue": "The truth value of a Series is ambiguous. Use a.empty, a.bool(), a.item(), a.any() or a.all().",
     "output_type": "error",
     "traceback": [
      "\u001b[0;31m---------------------------------------------------------------------------\u001b[0m",
      "\u001b[0;31mValueError\u001b[0m                                Traceback (most recent call last)",
      "\u001b[0;32m<ipython-input-51-07e41b328701>\u001b[0m in \u001b[0;36m<module>\u001b[0;34m()\u001b[0m\n\u001b[1;32m      1\u001b[0m \u001b[0mgroup_by_alcohol\u001b[0m \u001b[0;34m=\u001b[0m \u001b[0;34m{\u001b[0m\u001b[0;34m}\u001b[0m\u001b[0;34m\u001b[0m\u001b[0m\n\u001b[1;32m      2\u001b[0m \u001b[0;32mfor\u001b[0m \u001b[0mi\u001b[0m \u001b[0;32min\u001b[0m \u001b[0mrange\u001b[0m\u001b[0;34m(\u001b[0m\u001b[0;36m1\u001b[0m\u001b[0;34m,\u001b[0m \u001b[0;36m5\u001b[0m\u001b[0;34m)\u001b[0m \u001b[0;34m:\u001b[0m\u001b[0;34m\u001b[0m\u001b[0m\n\u001b[0;32m----> 3\u001b[0;31m     \u001b[0mgroup_by_alcohol\u001b[0m\u001b[0;34m[\u001b[0m\u001b[0mi\u001b[0m\u001b[0;34m]\u001b[0m \u001b[0;34m=\u001b[0m \u001b[0mdf\u001b[0m\u001b[0;34m[\u001b[0m\u001b[0mquantiles\u001b[0m\u001b[0;34m[\u001b[0m\u001b[0mi\u001b[0m\u001b[0;34m-\u001b[0m\u001b[0;36m1\u001b[0m\u001b[0;34m]\u001b[0m\u001b[0;34m<=\u001b[0m\u001b[0mdf\u001b[0m\u001b[0;34m.\u001b[0m\u001b[0mloc\u001b[0m\u001b[0;34m[\u001b[0m\u001b[0;34m:\u001b[0m\u001b[0;34m,\u001b[0m\u001b[0;34m'alcohol'\u001b[0m\u001b[0;34m]\u001b[0m \u001b[0;32mand\u001b[0m \u001b[0mdf\u001b[0m\u001b[0;34m.\u001b[0m\u001b[0mloc\u001b[0m\u001b[0;34m[\u001b[0m\u001b[0;34m:\u001b[0m\u001b[0;34m,\u001b[0m\u001b[0;34m'alcohol'\u001b[0m\u001b[0;34m]\u001b[0m\u001b[0;34m<\u001b[0m\u001b[0mquantiles\u001b[0m\u001b[0;34m[\u001b[0m\u001b[0mi\u001b[0m\u001b[0;34m]\u001b[0m\u001b[0;34m]\u001b[0m\u001b[0;34m\u001b[0m\u001b[0m\n\u001b[0m",
      "\u001b[0;32m/media/borde/External/anaconda3/lib/python3.6/site-packages/pandas/core/generic.py\u001b[0m in \u001b[0;36m__nonzero__\u001b[0;34m(self)\u001b[0m\n\u001b[1;32m    953\u001b[0m         raise ValueError(\"The truth value of a {0} is ambiguous. \"\n\u001b[1;32m    954\u001b[0m                          \u001b[0;34m\"Use a.empty, a.bool(), a.item(), a.any() or a.all().\"\u001b[0m\u001b[0;34m\u001b[0m\u001b[0m\n\u001b[0;32m--> 955\u001b[0;31m                          .format(self.__class__.__name__))\n\u001b[0m\u001b[1;32m    956\u001b[0m \u001b[0;34m\u001b[0m\u001b[0m\n\u001b[1;32m    957\u001b[0m     \u001b[0m__bool__\u001b[0m \u001b[0;34m=\u001b[0m \u001b[0m__nonzero__\u001b[0m\u001b[0;34m\u001b[0m\u001b[0m\n",
      "\u001b[0;31mValueError\u001b[0m: The truth value of a Series is ambiguous. Use a.empty, a.bool(), a.item(), a.any() or a.all()."
     ]
    }
   ],
   "source": [
    "group_by_alcohol = {}\n",
    "for i in range(1, 5) :\n",
    "    group_by_alcohol[i] = df[quantiles[i-1]<=df.loc[:,'alcohol'] and df.loc[:,'alcohol']<quantiles[i]]"
   ]
  },
  {
   "cell_type": "markdown",
   "metadata": {},
   "source": [
    "### General properties of dataset"
   ]
  },
  {
   "cell_type": "markdown",
   "metadata": {},
   "source": [
    "### Cleaning step"
   ]
  },
  {
   "cell_type": "markdown",
   "metadata": {},
   "source": [
    "<a id=\"explore\"></a>\n",
    "## Exploratory analysis"
   ]
  },
  {
   "cell_type": "markdown",
   "metadata": {},
   "source": [
    "### Question one: How does the economy of a country relate to alcohol consumption?"
   ]
  },
  {
   "cell_type": "markdown",
   "metadata": {},
   "source": [
    "### Question two: Is there any connection between addiction to alcohol and tobacco?"
   ]
  },
  {
   "cell_type": "markdown",
   "metadata": {},
   "source": [
    "### Question three: Where is Hungary - my home country - on these lists and what can we say about it compared to other countries?"
   ]
  },
  {
   "cell_type": "markdown",
   "metadata": {},
   "source": [
    "<a id=\"discussion\"></a>\n",
    "## Discussion"
   ]
  },
  {
   "cell_type": "code",
   "execution_count": 2,
   "metadata": {
    "collapsed": true
   },
   "outputs": [],
   "source": []
  },
  {
   "cell_type": "code",
   "execution_count": null,
   "metadata": {
    "collapsed": true
   },
   "outputs": [],
   "source": []
  }
 ],
 "metadata": {
  "kernelspec": {
   "display_name": "Python 3",
   "language": "python",
   "name": "python3"
  },
  "language_info": {
   "codemirror_mode": {
    "name": "ipython",
    "version": 3
   },
   "file_extension": ".py",
   "mimetype": "text/x-python",
   "name": "python",
   "nbconvert_exporter": "python",
   "pygments_lexer": "ipython3",
   "version": "3.6.2"
  }
 },
 "nbformat": 4,
 "nbformat_minor": 2
}
