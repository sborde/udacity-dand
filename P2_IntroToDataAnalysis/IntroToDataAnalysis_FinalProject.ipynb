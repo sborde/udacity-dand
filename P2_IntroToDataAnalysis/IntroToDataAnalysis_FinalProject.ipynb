{
 "cells": [
  {
   "cell_type": "markdown",
   "metadata": {},
   "source": [
    "# Project: Investigate alcohol consumption\n",
    "## Table of contents\n",
    " - <a href=\"#intro\">Introduction</a>\n",
    " - <a href=\"#wrangle\">Data wrangling and cleaning</a>\n",
    " - <a href=\"#explore\">Exploratory analysis</a>\n",
    " - <a href=\"#discussion\">Discussion</a>"
   ]
  },
  {
   "cell_type": "markdown",
   "metadata": {},
   "source": [
    "<a id=\"intro\"></a>\n",
    "## Introduction"
   ]
  },
  {
   "cell_type": "markdown",
   "metadata": {},
   "source": [
    "For my analysis project, I choose the *\"Gapminder World\"* dataset. After I looked through the available variables, I chose *\"Alcohol consumption per adult\"* indicator as the dependent variable and the following three as the independent variable: \n",
    "\n",
    " - *\"Prevalence of current tobacco use among adults (>=15 years) (%, both sexes)\"*\n",
    " - *\"Income per person (fixed 2000 US$)\"*\n",
    " - *\"Total 15+ unemployed (%)\"*\n",
    "\n",
    "After the initial examination, I found that the matrix of measurements are extremely sparse, but the column for 2005 was quite filled, so I decided to take only this year into account.\n",
    "\n",
    "Using these variables, I decided to answer this three questions:\n",
    "\n",
    " 1. \"How does the economy of a country relate to alcohol consumption?\"\n",
    " 2. \"Is there any connection between addiction to alcohol and tobacco?\"\n",
    " 3. \"Where is Hungary - my home country - on these lists and what can we say about it compared to other countries?\""
   ]
  },
  {
   "cell_type": "code",
   "execution_count": 225,
   "metadata": {
    "collapsed": false
   },
   "outputs": [],
   "source": [
    "# Importing necessary modules\n",
    "import numpy as np\n",
    "import pandas as pd\n",
    "import matplotlib.pyplot as plt\n",
    "import scipy.stats as sts\n",
    "\n",
    "# Magic word for plots\n",
    "%matplotlib inline\n",
    "\n",
    "# Define basic variables\n",
    "DATA_DIR = 'ds'\n",
    "FILE_NAMES = ['alcohol', 'smoking', 'income', 'unemployment']\n",
    "levels = ['low', 'avg', 'high'] # alcohol consumption level\n",
    "level_colors = {'low': 'b', 'avg': 'g', 'high': 'r'} # color for level"
   ]
  },
  {
   "cell_type": "code",
   "execution_count": 177,
   "metadata": {
    "collapsed": true
   },
   "outputs": [],
   "source": [
    "# Utility function definitions\n"
   ]
  },
  {
   "cell_type": "markdown",
   "metadata": {},
   "source": [
    "<a id=\"wrangle\"></a>\n",
    "## Data wrangling and cleaning"
   ]
  },
  {
   "cell_type": "markdown",
   "metadata": {},
   "source": [
    "### Loading data\n",
    "As a first step, I loaded each dataset into dataframe and I put them in a list. I used the name of the country as index and the name of the file as column name. After that, I joined the dataframes by the name of the country."
   ]
  },
  {
   "cell_type": "code",
   "execution_count": 178,
   "metadata": {
    "collapsed": true
   },
   "outputs": [],
   "source": [
    "df_list = []\n",
    "for fname in FILE_NAMES :\n",
    "    full_path = DATA_DIR + '/' + fname + '.csv'\n",
    "    df = pd.read_csv(full_path, index_col=0, header=0, sep=',')\n",
    "    df_list.append(df)\n",
    "    \n",
    "df = pd.concat(df_list, axis=1)"
   ]
  },
  {
   "cell_type": "markdown",
   "metadata": {},
   "source": [
    "### Cleaning\n",
    "I wanted to use the same set of countries for all of my three questions. But, different countries had different missing values. To preserve the consistency, I decided to retain only those countries for which I had a value for all four indicators.\n",
    "\n",
    "My third (bonus) question was to inspect the state of Hungary, so I saved it for later use (because the unemployment ratio is missing, it will drop out from the global dataset)."
   ]
  },
  {
   "cell_type": "code",
   "execution_count": 179,
   "metadata": {
    "collapsed": false
   },
   "outputs": [
    {
     "name": "stdout",
     "output_type": "stream",
     "text": [
      "Number of countries in the original dataset: 295\n",
      "Number of countries after removing missing value: 24\n"
     ]
    }
   ],
   "source": [
    "print('Number of countries in the original dataset: {}'.format(len(df)))\n",
    "\n",
    "df_hun = df.loc['Hungary'] #Save Hungary for later usage\n",
    "df = df[~(df.isnull().any(axis=1))] # Remove countries with missing value\n",
    "\n",
    "print('Number of countries after removing missing value: {}'.format(len(df)))"
   ]
  },
  {
   "cell_type": "markdown",
   "metadata": {},
   "source": [
    "I was curious about which countries remained, so I printed out them:"
   ]
  },
  {
   "cell_type": "code",
   "execution_count": 180,
   "metadata": {
    "collapsed": false
   },
   "outputs": [
    {
     "name": "stdout",
     "output_type": "stream",
     "text": [
      "Australia, Canada, Estonia, Finland, France, Germany, Ireland, Japan, Latvia, Lithuania, Netherlands, New Zealand, Norway, Philippines, Poland, Portugal, Romania, Slovenia, Spain, Sweden, Switzerland, Turkey, United Kingdom, United States\n"
     ]
    }
   ],
   "source": [
    "print(', '.join(list(df.index)))"
   ]
  },
  {
   "cell_type": "markdown",
   "metadata": {},
   "source": [
    "### Handling possible outliers"
   ]
  },
  {
   "cell_type": "markdown",
   "metadata": {},
   "source": [
    "I know that all country in my dataset has all four measurements. But is there any outlier which we need to handle? I plot a histogram for each variable and looked at them."
   ]
  },
  {
   "cell_type": "code",
   "execution_count": 181,
   "metadata": {
    "collapsed": false
   },
   "outputs": [
    {
     "data": {
      "image/png": "[encoded data removed]",
      "text/plain": [
       "<matplotlib.figure.Figure at 0x1d916615ef0>"
      ]
     },
     "metadata": {},
     "output_type": "display_data"
    }
   ],
   "source": [
    "hist1 = df.loc[:, 'alcohol'].hist(grid=False, bins=10, range=(0,15))\n",
    "hist1 = plt.title('alcohol')"
   ]
  },
  {
   "cell_type": "markdown",
   "metadata": {},
   "source": [
    "On this histogram I can see one outlier where the yearly consumption fall far from the other values. I selected this country by value:"
   ]
  },
  {
   "cell_type": "code",
   "execution_count": 182,
   "metadata": {
    "collapsed": false
   },
   "outputs": [
    {
     "name": "stdout",
     "output_type": "stream",
     "text": [
      "Possible utlier country based on alcohol consumption: Turkey\n"
     ]
    }
   ],
   "source": [
    "outlier_country = list(df.loc[df.loc[:,'alcohol'] < 5].index)\n",
    "print('Possible utlier country based on alcohol consumption: ' + ', '.join(outlier_country))"
   ]
  },
  {
   "cell_type": "markdown",
   "metadata": {},
   "source": [
    "I examined the three independent variable too the same way."
   ]
  },
  {
   "cell_type": "code",
   "execution_count": 183,
   "metadata": {
    "collapsed": false
   },
   "outputs": [
    {
     "data": {
      "image/png": "[encoded data removed]",
      "text/plain": [
       "<matplotlib.figure.Figure at 0x1d916bef518>"
      ]
     },
     "metadata": {},
     "output_type": "display_data"
    }
   ],
   "source": [
    "histogram_list = [[] for i in range(0, 3)]\n",
    "plt.figure(figsize=(15,5))\n",
    "for i in range(1, 4) :\n",
    "    plt.subplot(1, 3, i)\n",
    "    histogram_list[i-1] = df.loc[:, FILE_NAMES[i]].hist(grid=False)\n",
    "    plt.title(FILE_NAMES[i])"
   ]
  },
  {
   "cell_type": "code",
   "execution_count": 184,
   "metadata": {
    "collapsed": false
   },
   "outputs": [
    {
     "name": "stdout",
     "output_type": "stream",
     "text": [
      "Outlier countries based on smoking: Estonia, Latvia, Poland, Portugal, Turkey, United Kingdom\n"
     ]
    }
   ],
   "source": [
    "smoking_outlier = list(df.loc[df.loc[:, 'smoking']>35].index)\n",
    "print('Outlier countries based on smoking: ' + ', '.join(smoking_outlier))"
   ]
  },
  {
   "cell_type": "code",
   "execution_count": 185,
   "metadata": {
    "collapsed": false
   },
   "outputs": [
    {
     "name": "stdout",
     "output_type": "stream",
     "text": [
      "Outlier countries based on unemployment ratio: Poland\n"
     ]
    }
   ],
   "source": [
    "unemp_outlier = list(df.loc[df.loc[:, 'unemployment']>15].index)\n",
    "print('Outlier countries based on unemployment ratio: ' + ', '.join(unemp_outlier))"
   ]
  },
  {
   "cell_type": "markdown",
   "metadata": {},
   "source": [
    "Looking at the histogram, I didn't consider any country as possible outlier based on income.\n",
    "\n",
    "I think these values don't seem to be invalid or erroneous so I decided to retain them in my analysis."
   ]
  },
  {
   "cell_type": "markdown",
   "metadata": {},
   "source": [
    "### General properties of dataset"
   ]
  },
  {
   "cell_type": "markdown",
   "metadata": {},
   "source": [
    "After the initial cleaning step I calculated some basic statistics."
   ]
  },
  {
   "cell_type": "code",
   "execution_count": 186,
   "metadata": {
    "collapsed": false
   },
   "outputs": [
    {
     "name": "stdout",
     "output_type": "stream",
     "text": [
      "Normality of variable 'alcohol' is accepted at 0.05 significance level.\n",
      "Normality of variable 'smoking' is accepted at 0.05 significance level.\n",
      "Normality of variable 'income' is accepted at 0.05 significance level.\n",
      "Normality of variable 'unemployment' is rejected at 0.05 significance level.\n"
     ]
    }
   ],
   "source": [
    "for field in ['alcohol', 'smoking', 'income', 'unemployment'] :\n",
    "    (stat,pval) = sts.normaltest(df.loc[:, field].values)\n",
    "    \n",
    "    if pval < 0.05 :\n",
    "        decision = 'rejected'\n",
    "    else :\n",
    "        decision = 'accepted'\n",
    "        \n",
    "    print('Normality of variable \\'' + field + '\\' is {} at 0.05 significance level.'.format(decision))"
   ]
  },
  {
   "cell_type": "markdown",
   "metadata": {},
   "source": [
    "Based on statistical test I can state that alcohol consumption, smoking and income variables follow normal distribution (at 0.05 significance threshold), but unemployment ratio doesn't (maybe it follows a long tail distribution).\n",
    "Below, I calculated some descriptive statistics for my dataset."
   ]
  },
  {
   "cell_type": "markdown",
   "metadata": {},
   "source": [
    "#### Mean"
   ]
  },
  {
   "cell_type": "code",
   "execution_count": 187,
   "metadata": {
    "collapsed": false
   },
   "outputs": [
    {
     "data": {
      "text/plain": [
       "alcohol            11.455417\n",
       "smoking            30.558333\n",
       "income          19787.642021\n",
       "unemployment        7.354167\n",
       "dtype: float64"
      ]
     },
     "execution_count": 187,
     "metadata": {},
     "output_type": "execute_result"
    }
   ],
   "source": [
    "df.mean()"
   ]
  },
  {
   "cell_type": "markdown",
   "metadata": {},
   "source": [
    "#### Standard deviation"
   ]
  },
  {
   "cell_type": "code",
   "execution_count": 188,
   "metadata": {
    "collapsed": false
   },
   "outputs": [
    {
     "data": {
      "text/plain": [
       "alcohol             3.185336\n",
       "smoking             5.117652\n",
       "income          12783.649880\n",
       "unemployment        3.056281\n",
       "dtype: float64"
      ]
     },
     "execution_count": 188,
     "metadata": {},
     "output_type": "execute_result"
    }
   ],
   "source": [
    "df.std()"
   ]
  },
  {
   "cell_type": "markdown",
   "metadata": {
    "collapsed": true
   },
   "source": [
    "#### Median"
   ]
  },
  {
   "cell_type": "code",
   "execution_count": 189,
   "metadata": {
    "collapsed": false
   },
   "outputs": [
    {
     "data": {
      "text/plain": [
       "alcohol            12.060000\n",
       "smoking            31.650000\n",
       "income          23149.309243\n",
       "unemployment        7.550000\n",
       "dtype: float64"
      ]
     },
     "execution_count": 189,
     "metadata": {},
     "output_type": "execute_result"
    }
   ],
   "source": [
    "df.median()"
   ]
  },
  {
   "cell_type": "markdown",
   "metadata": {},
   "source": [
    "<a id=\"explore\"></a>\n",
    "## Exploratory analysis"
   ]
  },
  {
   "cell_type": "markdown",
   "metadata": {},
   "source": [
    "Because I wanted to measure the connection between \"high\" alcohol consumption and the other 3 variables, I needed to define what \"high\" or \"low\" means.\n",
    "From the normality test I could determine that alcohol consumption follows a normal distribution. Because of that, I created three groups:\n",
    " - average consumption (value in interval $[\\mu - \\sigma; \\mu + \\sigma]$\n",
    " - low consumption (value less than $\\mu - \\sigma$)\n",
    " - high consumption (value higher than $\\mu + \\sigma$)\n",
    " \n",
    "To form these groups, I converted each value to z-value, then sorted values into different lists."
   ]
  },
  {
   "cell_type": "code",
   "execution_count": 190,
   "metadata": {
    "collapsed": false
   },
   "outputs": [],
   "source": [
    "z_values = (df.loc[:, 'alcohol'] - df.loc[:, 'alcohol'].mean()) / df.loc[:, 'alcohol'].std()\n",
    "countries_by_class = {}\n",
    "countries_by_class['low'] = list(z_values.loc[z_values < -1].index)\n",
    "countries_by_class['avg'] = list(z_values.loc[(-1 < z_values) & (z_values < 1)].index)\n",
    "countries_by_class['high'] = list(z_values.loc[z_values > 1].index)"
   ]
  },
  {
   "cell_type": "markdown",
   "metadata": {},
   "source": [
    "Result of grouping:"
   ]
  },
  {
   "cell_type": "code",
   "execution_count": 226,
   "metadata": {
    "collapsed": false
   },
   "outputs": [
    {
     "name": "stdout",
     "output_type": "stream",
     "text": [
      "Countries with low alcohol consumption:\n",
      "Japan, Norway, Philippines, Turkey\n",
      "\n",
      "Countries with avg alcohol consumption:\n",
      "Australia, Canada, Finland, France, Germany, Ireland, Latvia, Netherlands, New Zealand, Poland, Portugal, Spain, Sweden, Switzerland, United Kingdom, United States\n",
      "\n",
      "Countries with high alcohol consumption:\n",
      "Estonia, Lithuania, Romania, Slovenia\n",
      "\n"
     ]
    },
    {
     "data": {
      "image/png": "[encoded data removed]",
      "text/plain": [
       "<matplotlib.figure.Figure at 0x1d918e21860>"
      ]
     },
     "metadata": {},
     "output_type": "display_data"
    }
   ],
   "source": [
    "df_per_class = {}\n",
    "for (group, members) in countries_by_class.items() :\n",
    "    print('Countries with ' + group + ' alcohol consumption:\\n{}'.format(', '.join(members)), end='\\n\\n')\n",
    "    df_per_class[group] = df.loc[members]\n",
    "    df_per_class[group].loc[:, 'alcohol'].hist(grid=False, bins=10, range=(0,20), color=level_colors[group])\n",
    "    \n",
    "plot_title = plt.title('Histogram of low/average/high groups')"
   ]
  },
  {
   "cell_type": "markdown",
   "metadata": {},
   "source": [
    "### Question one: How does the economy of a country relate to alcohol consumption?"
   ]
  },
  {
   "cell_type": "markdown",
   "metadata": {},
   "source": [
    "I decided that I will measure a country's economy by the combination of income per person and unemployment rate.\n",
    "\n",
    "First, I want to decide if I need both variable for my analysis, or are they correlated so much that I could drop one of them? To answer this question, I calculate the correlation of the variables and perfom a PCA. Because I found that unemployment rate doesn't follow normal distribution, I can't use Pearson's R, but I have to use Spearman's $\\rho$."
   ]
  },
  {
   "cell_type": "code",
   "execution_count": 192,
   "metadata": {
    "collapsed": false
   },
   "outputs": [
    {
     "data": {
      "image/png": "[encoded data removed]",
      "text/plain": [
       "<matplotlib.figure.Figure at 0x1d916b08b70>"
      ]
     },
     "metadata": {},
     "output_type": "display_data"
    }
   ],
   "source": [
    "df_econ = df.loc[:, ['income', 'unemployment']]\n",
    "scatter = plt.scatter(df_econ.iloc[:, 0], df_econ.iloc[:, 1])"
   ]
  },
  {
   "cell_type": "code",
   "execution_count": 231,
   "metadata": {
    "collapsed": false
   },
   "outputs": [
    {
     "name": "stdout",
     "output_type": "stream",
     "text": [
      "r = -0.563 (p = 0.004)\n"
     ]
    }
   ],
   "source": [
    "(r, p) = sts.spearmanr(df_econ.iloc[:, 0], df_econ.iloc[:, 1])\n",
    "print('r = {0:.3f} (p = {1:.3f})'.format(r, p))"
   ]
  },
  {
   "cell_type": "markdown",
   "metadata": {},
   "source": [
    "From this result, I can see that income per person and unemployment rate are negatively correlated. It means that in countries with larger income the unemployment ratio is lower (which makes sense for me). The scatter plot above strengthen this finding.\n",
    "\n",
    "Next step, I calculated the correlation of these two parameter with the alcohol consumption to decide if there is any linear dependence between any of them."
   ]
  },
  {
   "cell_type": "code",
   "execution_count": 235,
   "metadata": {
    "collapsed": false
   },
   "outputs": [
    {
     "name": "stdout",
     "output_type": "stream",
     "text": [
      "Correlation of alcohol vs. income: -0.327 (p=0.119)\n",
      "Correlation of alcohol vs. unemployment: 0.218 (p=0.305)\n"
     ]
    },
    {
     "data": {
      "image/png": "[encoded data removed]",
      "text/plain": [
       "<matplotlib.figure.Figure at 0x1d918d764e0>"
      ]
     },
     "metadata": {},
     "output_type": "display_data"
    }
   ],
   "source": [
    "plt.figure(figsize=(10,5))\n",
    "for group in levels :\n",
    "    current_group = df.loc[countries_by_class[group]]\n",
    "    plt.subplot(1, 2, 1)\n",
    "    plt.plot(current_group.loc[:, 'alcohol'], current_group.loc[:, 'income'], 'o', color=level_colors[group])\n",
    "    plt.subplot(1, 2, 2)\n",
    "    plt.plot(current_group.loc[:, 'alcohol'], current_group.loc[:, 'unemployment'], 'o', color=level_colors[group])\n",
    "    \n",
    "(r, p) = sts.spearmanr(df.loc[:, 'alcohol'], df.loc[:, 'income'])\n",
    "print('Correlation of alcohol vs. income: {0:.3f} (p={1:.3f})'.format(r, p))\n",
    "(r, p) = sts.spearmanr(df.loc[:, 'alcohol'], df.loc[:, 'unemployment'])\n",
    "print('Correlation of alcohol vs. unemployment: {0:.3f} (p={1:.3f})'.format(r, p))"
   ]
  },
  {
   "cell_type": "markdown",
   "metadata": {},
   "source": [
    "The income and alcohol consumption shows a negative correlation, and we can see that on the first plot too. However, this correlation is not significant (at 0.05 significance level). In contrast, the unemployment rate shows a small positive correlation with the alcohol, but it isn't significant either. Finally, I draw a histogram of the distribution of income/unemployment within groups given by alcohol consumption level."
   ]
  },
  {
   "cell_type": "code",
   "execution_count": 247,
   "metadata": {
    "collapsed": false
   },
   "outputs": [
    {
     "data": {
      "image/png": "[encoded data removed]",
      "text/plain": [
       "<matplotlib.figure.Figure at 0x1d91a3d84e0>"
      ]
     },
     "metadata": {},
     "output_type": "display_data"
    }
   ],
   "source": [
    "plt.figure(figsize=(10,5))\n",
    "for group in levels :\n",
    "    current_group = df.loc[countries_by_class[group]]\n",
    "    plt.subplot(3, 2, 1);\n",
    "    y, binedges = np.histogram(current_group.loc[:, 'income'], range=(0,40000), bins=10)\n",
    "    plt.plot(binedges[:-1], y, color=level_colors[group])\n",
    "    plt.subplot(3, 2, 2);\n",
    "    y, binedges = np.histogram(current_group.loc[:, 'unemployment'], range=(0,20), bins=10)\n",
    "    plt.plot(binedges[:-1], y, color=level_colors[group])"
   ]
  },
  {
   "cell_type": "code",
   "execution_count": 260,
   "metadata": {
    "collapsed": false
   },
   "outputs": [
    {
     "name": "stdout",
     "output_type": "stream",
     "text": [
      "ttest: compare income between low & avg: p = 0.859\n",
      "ttest: compare income between low & high: p = 0.211\n",
      "ttest: compare income between avg & high: p = 0.005\n",
      "ttest: compare unemployment between low & avg: p = 0.726\n",
      "ttest: compare unemployment between low & high: p = 0.625\n",
      "ttest: compare unemployment between avg & high: p = 0.970\n"
     ]
    }
   ],
   "source": [
    "features = ['income', 'unemployment']\n",
    "for f in range(0, 2) :\n",
    "    for g1 in range(0, len(levels)-1) :\n",
    "        group1_name = levels[g1]\n",
    "        group1 = countries_by_class[group1_name]\n",
    "        for g2 in range(g1+1, len(levels)) :\n",
    "            group2_name = levels[g2]\n",
    "            group2 = countries_by_class[group2_name]\n",
    "            (t, p) = sts.ttest_ind(df.loc[group1, features[f]], df.loc[group2, features[f]])\n",
    "            print('ttest: compare {3} between {0} & {1}: p = {2:.3f}'.format(group1_name, group2_name, p, features[f]))"
   ]
  },
  {
   "cell_type": "markdown",
   "metadata": {},
   "source": [
    "### Question two: Is there any connection between addiction to alcohol and tobacco?"
   ]
  },
  {
   "cell_type": "markdown",
   "metadata": {},
   "source": [
    "### Question three: Where is Hungary - my home country - on these lists and what can we say about it compared to other countries?"
   ]
  },
  {
   "cell_type": "markdown",
   "metadata": {},
   "source": [
    "<a id=\"discussion\"></a>\n",
    "## Discussion"
   ]
  },
  {
   "cell_type": "code",
   "execution_count": 2,
   "metadata": {
    "collapsed": true
   },
   "outputs": [],
   "source": []
  },
  {
   "cell_type": "code",
   "execution_count": null,
   "metadata": {
    "collapsed": true
   },
   "outputs": [],
   "source": []
  }
 ],
 "metadata": {
  "kernelspec": {
   "display_name": "Python 3",
   "language": "python",
   "name": "python3"
  },
  "language_info": {
   "codemirror_mode": {
    "name": "ipython",
    "version": 3
   },
   "file_extension": ".py",
   "mimetype": "text/x-python",
   "name": "python",
   "nbconvert_exporter": "python",
   "pygments_lexer": "ipython3",
   "version": "3.6.0"
  }
 },
 "nbformat": 4,
 "nbformat_minor": 2
}
