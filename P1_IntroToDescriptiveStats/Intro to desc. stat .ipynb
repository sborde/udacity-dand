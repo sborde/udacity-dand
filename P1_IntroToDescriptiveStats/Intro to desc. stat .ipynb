{
 "cells": [
  {
   "cell_type": "code",
   "execution_count": 12,
   "metadata": {
    "collapsed": false
   },
   "outputs": [],
   "source": [
    "import csv as csv\n",
    "from random import shuffle\n",
    "\n",
    "file = open('/home/borde/Downloads/Intro to descriptive statistics - cards.csv', 'r')\n",
    "\n",
    "csvreader = csv.reader(file, delimiter=',')\n",
    "\n",
    "card_list = []\n",
    "for line in csvreader :\n",
    "    card_list.append((line[0],line[1]))\n",
    "\n",
    "file.close()\n",
    "\n",
    "num_exp = 50\n",
    "sample_list = []\n",
    "for i in range(0, num_exp) :\n",
    "    shuffle(card_list)\n",
    "    sample_list.append(card_list[0:3])\n",
    "    \n",
    "file = open('/home/borde/sample.csv', 'w')\n",
    "\n",
    "csvwriter = csv.writer(file, delimiter=',')\n",
    "\n",
    "for sample in sample_list:\n",
    "    row_as_list = []\n",
    "    for card in sample :\n",
    "        row_as_list.append(card[0])\n",
    "        row_as_list.append(card[1])\n",
    "    csvwriter.writerow(row_as_list)\n",
    "\n",
    "file.close()\n"
   ]
  },
  {
   "cell_type": "code",
   "execution_count": null,
   "metadata": {
    "collapsed": true
   },
   "outputs": [],
   "source": []
  },
  {
   "cell_type": "code",
   "execution_count": 28,
   "metadata": {
    "collapsed": false
   },
   "outputs": [
    {
     "name": "stdout",
     "output_type": "stream",
     "text": [
      "Variance: 28.652975983292723\n",
      "SD: 5.352847464975321\n"
     ]
    }
   ],
   "source": [
    "from copy import copy\n",
    "from statistics import mean\n",
    "from math import sqrt\n",
    "\n",
    "def n_choose_k(sample, remaining) :\n",
    "        \n",
    "    if len(sample) == 3 : \n",
    "        return [sum(sample)]\n",
    "    \n",
    "    sums = []\n",
    "    for i in range(0, len(remaining)) :\n",
    "        new_sample = copy(sample)\n",
    "        new_rem = copy(remaining)\n",
    "        new_sample.append(remaining[i])\n",
    "        del new_rem[i]\n",
    "        sums += n_choose_k(new_sample, new_rem)\n",
    "        \n",
    "    return sums\n",
    "\n",
    "def generate_card_values() :\n",
    "    return [1,2,3,4,5,6,7,8,9,10,10,10,10] * 4\n",
    "\n",
    "card_values = generate_card_values()\n",
    "all_sample_sum = n_choose_k([], card_values)\n",
    "avg = mean(all_sample_sum)\n",
    "squared_diff = [(x-avg)**2 for x in all_sample_sum]\n",
    "variance = mean(squared_diff)\n",
    "print('Variance: ' + str(variance))\n",
    "sd = sqrt(variance)\n",
    "print('SD: ' + str(sd))\n"
   ]
  }
 ],
 "metadata": {
  "kernelspec": {
   "display_name": "Python 3",
   "language": "python",
   "name": "python3"
  },
  "language_info": {
   "codemirror_mode": {
    "name": "ipython",
    "version": 3
   },
   "file_extension": ".py",
   "mimetype": "text/x-python",
   "name": "python",
   "nbconvert_exporter": "python",
   "pygments_lexer": "ipython3",
   "version": "3.6.0"
  }
 },
 "nbformat": 4,
 "nbformat_minor": 2
}
